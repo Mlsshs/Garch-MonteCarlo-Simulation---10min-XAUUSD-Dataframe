{
 "cells": [
  {
   "cell_type": "code",
   "execution_count": null,
   "id": "c1a033d2",
   "metadata": {
    "scrolled": true
   },
   "outputs": [],
   "source": [
    "!pip install arch\n",
    "!pip install pytz\n",
    "!pip install math\n",
    "!pip install yfinance\n",
    "\n",
    "import pandas as pd\n",
    "import numpy as np\n",
    "from datetime import datetime, timedelta\n",
    "import time\n",
    "import pytz\n",
    "import arch\n",
    "import math\n",
    "import yfinance as yf"
   ]
  },
  {
   "cell_type": "markdown",
   "id": "7f4fb10b",
   "metadata": {},
   "source": [
    "## Fetch data from TradingView"
   ]
  },
  {
   "cell_type": "code",
   "execution_count": null,
   "id": "1c99b8a5",
   "metadata": {
    "scrolled": true
   },
   "outputs": [],
   "source": [
    "# Input parameters, start date, time, interval\n",
    "sym = \"EURUSD=X\"\n",
    "start = \"2024-03-01\"\n",
    "end = \"2024-03-02\"\n",
    "inter = \"15min\"\n",
    "\n",
    "fetch_data = yf.download(sym, start, end, interval=inter)\n",
    "raw = fetch_data.copy()"
   ]
  },
  {
   "cell_type": "markdown",
   "id": "7877ee57",
   "metadata": {},
   "source": [
    "## Applying returns and Value At Risk simulation"
   ]
  },
  {
   "cell_type": "code",
   "execution_count": null,
   "id": "a33ad1ae",
   "metadata": {
    "scrolled": true
   },
   "outputs": [],
   "source": [
    "monte_ret = raw.copy()\n",
    "monte_ret[\"pips\"] = (monte_ret[\"Close\"] - monte_ret[\"Close\"].shift(1))\n",
    "monte_ret = monte_ret.dropna()\n",
    "\n",
    "# Percentage Returns\n",
    "monte_ret[\"pct_returns\"] = monte_ret[\"Close\"].pct_change().dropna()\n",
    "monte_ret = monte_ret.dropna()\n",
    "\n",
    "# Sort returns in ascending order\n",
    "monte_ret_var = monte_ret.pct_returns\n",
    "\n",
    "# Predicting volatility at time t+1 for monte carlo simulation\n",
    "df = pd.DataFrame(monte_ret, columns=['pct_returns'])\n",
    "\n",
    "# Rescale the returns data\n",
    "df['scaled_returns'] = df['pct_returns'] * 10000\n",
    "\n",
    "\n",
    "# GARCH(1,1) with rolling window = 2\n",
    "\n",
    "rolling_window = 2\n",
    "forecasts_variance = []  # Use forecasts_variance list to store the predicted variances\n",
    "forecasts_mean = []  # Use forecasts_mean list to store the predicted means\n",
    "\n",
    "for i in range(len(df['scaled_returns']) - rolling_window + 1):  # Note the +1 to ensure inclusive window\n",
    "\n",
    "    # Slice the rescaled returns for the current rolling window\n",
    "    windowed_returns = df['scaled_returns'].iloc[i : i + rolling_window]\n",
    "\n",
    "    # Fit GARCH(1,1) model for the current window\n",
    "    model = arch.arch_model(windowed_returns, vol='Garch', p=1, q=1)\n",
    "    results = model.fit()\n",
    "\n",
    "    # Forecast volatility and mean for the next time step\n",
    "    forecast = results.forecast(horizon=1)\n",
    "    forecast_variance = np.sqrt(forecast.variance.values[-1, -1]) / 10000  # Convert back to original scale\n",
    "    forecast_mean = forecast.mean.values[-1, -1] / 10000  # Convert back to original scale\n",
    "\n",
    "    forecasts_variance.append(forecast_variance)\n",
    "    forecasts_mean.append(forecast_mean)"
   ]
  },
  {
   "cell_type": "markdown",
   "id": "f9c4509d",
   "metadata": {},
   "source": [
    "# Monte Carlo"
   ]
  },
  {
   "cell_type": "code",
   "execution_count": null,
   "id": "fe7036d4",
   "metadata": {
    "scrolled": true
   },
   "outputs": [],
   "source": [
    "# Number of simulations\n",
    "num_simulations = 200000\n",
    "\n",
    "# Initialize arrays to store VaR results\n",
    "var_95_mean = []\n",
    "var_95_variance = []\n",
    "\n",
    "# Perform Monte Carlo simulation and calculate 95% VaR for each forecasted mean and variance\n",
    "for mean, variance in zip(monte_ret_var.shift(1), forecasts_variance):\n",
    "    # Generate simulated returns for the current forecasted mean and variance\n",
    "    simulated_returns = np.random.normal(mean, np.sqrt(variance), num_simulations)\n",
    "    \n",
    "    # Calculate the 95% VaR for the simulated return series\n",
    "    var_95 = np.percentile(simulated_returns, 0.05)\n",
    "    \n",
    "    # Append VaR results to the arrays\n",
    "    var_95_mean.append(var_95)"
   ]
  },
  {
   "cell_type": "code",
   "execution_count": null,
   "id": "4b982c20",
   "metadata": {
    "scrolled": false
   },
   "outputs": [],
   "source": [
    "monte_ret_2 = monte_ret.copy()\n",
    "monte_ret_2 = monte_ret_2.reset_index()\n",
    "monte_ret_2.set_index(\"Datetime\")\n",
    "\n",
    "checker = monte_ret_2.copy()  # Create a copy of monte_ret_2 DataFrame\n",
    "checker = checker[1:]\n",
    "# Assuming var_95_mean is a Series containing the VaR values\n",
    "\n",
    "# Account for spreads\n",
    "#checker[\"low_spread\"] = checker.Low + checker.spread/100\n",
    "\n",
    "checker['VaR_95'] = var_95_mean  # Add a new column 'VaR_95' to the checker DataFrame\n",
    "\n",
    "# Determine price of VaR\n",
    "checker['VaR_95_price'] = ((1-abs(checker.VaR_95)/200) / (1+abs(checker.VaR_95)/200)) * checker.Low\n",
    "\n",
    "checker[\"pct_returns\"] = checker[\"pct_returns\"]\n",
    "\n",
    "checker[\"HIT\"] = (checker[\"Low\"] < checker[\"VaR_95_price\"].shift(1)).astype(int)\n",
    "\n",
    "#pd.set_option('display.max_rows', 50)\n",
    "print(pd.DataFrame(checker[[\"Low\", \"VaR_95_price\", \"HIT\"]]))"
   ]
  },
  {
   "cell_type": "markdown",
   "id": "954349ca",
   "metadata": {},
   "source": [
    "## Apply Poisson to determine the probability of HITS"
   ]
  },
  {
   "cell_type": "code",
   "execution_count": null,
   "id": "68567518",
   "metadata": {},
   "outputs": [],
   "source": [
    "import mplfinance as mpf\n",
    "import scipy.stats as stats\n",
    "rate_parameter = checker['HIT'].mean()\n",
    "\n",
    "# Define the number of occurrences for which you want to calculate the probability\n",
    "k = 1  # Define the number of occurrences for which you want to calculate the probability\n",
    "\n",
    "# Calculate the probability of k occurrences using the Poisson distribution\n",
    "probability = stats.poisson.pmf(k, rate_parameter)\n",
    "print(\"Probability of 1 occurrence:\", probability)"
   ]
  },
  {
   "cell_type": "markdown",
   "id": "b5159e9e",
   "metadata": {},
   "source": [
    "## Plot graph and VaR"
   ]
  },
  {
   "cell_type": "code",
   "execution_count": null,
   "id": "89c2acbf",
   "metadata": {},
   "outputs": [],
   "source": [
    "data = monte_ret_2.copy()\n",
    "\n",
    "# Convert index to DatetimeIndex\n",
    "data.index = pd.to_datetime(data.index)\n",
    "\n",
    "# Assuming 'pct_returns' is the column name containing the percentage returns data\n",
    "pct_returns = checker['VaR_95_price']\n",
    "\n",
    "# Plot the candlestick chart with the percentage returns as an additional plot\n",
    "mpf.plot(data[1:], type='candle', style='yahoo', addplot=[\n",
    "    mpf.make_addplot(pct_returns, color='green', alpha=0.5)  # Percentage returns as an additional plot\n",
    "], title='{} Chart with % Returns'.format(sym))"
   ]
  }
 ],
 "metadata": {
  "kernelspec": {
   "display_name": "Python 3 (ipykernel)",
   "language": "python",
   "name": "python3"
  },
  "language_info": {
   "codemirror_mode": {
    "name": "ipython",
    "version": 3
   },
   "file_extension": ".py",
   "mimetype": "text/x-python",
   "name": "python",
   "nbconvert_exporter": "python",
   "pygments_lexer": "ipython3",
   "version": "3.11.5"
  }
 },
 "nbformat": 4,
 "nbformat_minor": 5
}
