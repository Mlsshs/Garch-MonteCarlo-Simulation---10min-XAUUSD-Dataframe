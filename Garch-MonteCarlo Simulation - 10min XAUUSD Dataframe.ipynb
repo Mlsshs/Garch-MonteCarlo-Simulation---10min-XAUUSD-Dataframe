{
 "cells": [
  {
   "cell_type": "code",
   "execution_count": null,
   "id": "c1a033d2",
   "metadata": {
    "scrolled": true
   },
   "outputs": [],
   "source": [
    "import pandas as pd\n",
    "import numpy as np\n",
    "from datetime import datetime, timedelta\n",
    "import time\n",
    "import itertools\n",
    "import MetaTrader5 as mt5\n",
    "import pytz\n",
    "import matplotlib as py\n",
    "import matplotlib.pyplot as plt\n",
    "import seaborn as sns\n",
    "import plotly.graph_objects as go\n",
    "import arch\n",
    "import math"
   ]
  },
  {
   "cell_type": "markdown",
   "id": "7f4fb10b",
   "metadata": {},
   "source": [
    "## Connect to MetaTrader5"
   ]
  },
  {
   "cell_type": "code",
   "execution_count": null,
   "id": "22451442",
   "metadata": {
    "scrolled": true
   },
   "outputs": [],
   "source": [
    "initilized = mt5.initialize()\n",
    "\n",
    "if initilized:\n",
    "    print('Connected to MetaTrader5')\n",
    "    print('Login:', mt5.account_info().login)\n",
    "    print('Server:', mt5.account_info().server)"
   ]
  },
  {
   "cell_type": "markdown",
   "id": "6000736d",
   "metadata": {},
   "source": [
    "## Setting parameters and retrieving data"
   ]
  },
  {
   "cell_type": "code",
   "execution_count": null,
   "id": "1c99b8a5",
   "metadata": {},
   "outputs": [],
   "source": [
    "sym = \"XAUUSD\"\n",
    "timeframes = mt5.TIMEFRAME_M10\n",
    "gmt_now = datetime.now(pytz.timezone('Etc/GMT'))\n",
    "lot_size = 0.1"
   ]
  },
  {
   "cell_type": "code",
   "execution_count": null,
   "id": "402fc6bf",
   "metadata": {},
   "outputs": [],
   "source": [
    "#testing for 365 days which is \n",
    "raw = pd.DataFrame(mt5.copy_rates_from(sym, timeframes, gmt_now, 1000))\n",
    "raw['time'] = pd.to_datetime(raw['time'], unit='s', errors='coerce')\n",
    "#raw.drop(columns=['tick_volume', 'real_volume', 'high', 'low'], inplace=True)\n",
    "#raw.set_index('time', inplace=True)"
   ]
  },
  {
   "cell_type": "markdown",
   "id": "7877ee57",
   "metadata": {},
   "source": [
    "## Applying returns"
   ]
  },
  {
   "cell_type": "code",
   "execution_count": null,
   "id": "a33ad1ae",
   "metadata": {
    "scrolled": true
   },
   "outputs": [],
   "source": [
    "monte_ret = raw.copy()\n",
    "monte_ret[\"pips\"] = (monte_ret[\"close\"] - monte_ret[\"close\"].shift(1))\n",
    "monte_ret = monte_ret.dropna()\n",
    "\n",
    "# Percentage Returns\n",
    "monte_ret[\"pct_returns\"] = monte_ret[\"close\"].pct_change().dropna()\n",
    "monte_ret = monte_ret.dropna()\n",
    "\n",
    "# Sort returns in ascending order\n",
    "monte_ret_var = monte_ret.pct_returns\n",
    "\n",
    "# Predicting volatility at time t+1 for monte carlo simulation\n",
    "df = pd.DataFrame(monte_ret, columns=['pct_returns'])\n",
    "\n",
    "# Rescale the returns data\n",
    "df['scaled_returns'] = df['pct_returns'] * 10000\n",
    "\n",
    "\n",
    "# GARCH(1,1) with rolling window = 2\n",
    "\n",
    "rolling_window = 2\n",
    "forecasts_variance = []  # Use forecasts_variance list to store the predicted variances\n",
    "forecasts_mean = []  # Use forecasts_mean list to store the predicted means\n",
    "\n",
    "for i in range(len(df['scaled_returns']) - rolling_window + 1):  # Note the +1 to ensure inclusive window\n",
    "\n",
    "    # Slice the rescaled returns for the current rolling window\n",
    "    windowed_returns = df['scaled_returns'].iloc[i : i + rolling_window]\n",
    "\n",
    "    # Fit GARCH(1,1) model for the current window\n",
    "    model = arch.arch_model(windowed_returns, vol='Garch', p=1, q=1)\n",
    "    results = model.fit()\n",
    "\n",
    "    # Forecast volatility and mean for the next time step\n",
    "    forecast = results.forecast(horizon=1)\n",
    "    forecast_variance = np.sqrt(forecast.variance.values[-1, -1]) / 10000  # Convert back to original scale\n",
    "    forecast_mean = forecast.mean.values[-1, -1] / 10000  # Convert back to original scale\n",
    "\n",
    "    forecasts_variance.append(forecast_variance)\n",
    "    forecasts_mean.append(forecast_mean)"
   ]
  },
  {
   "cell_type": "markdown",
   "id": "f9c4509d",
   "metadata": {},
   "source": [
    "# Monte Carlo"
   ]
  },
  {
   "cell_type": "code",
   "execution_count": null,
   "id": "fe7036d4",
   "metadata": {
    "scrolled": true
   },
   "outputs": [],
   "source": [
    "# Number of simulations\n",
    "num_simulations = 200000\n",
    "\n",
    "# Initialize arrays to store VaR results\n",
    "var_95_mean = []\n",
    "var_95_variance = []\n",
    "\n",
    "# Perform Monte Carlo simulation and calculate 95% VaR for each forecasted mean and variance\n",
    "for mean, variance in zip(monte_ret_var.shift(1), forecasts_variance):\n",
    "    # Generate simulated returns for the current forecasted mean and variance\n",
    "    simulated_returns = np.random.normal(mean, np.sqrt(variance), num_simulations)\n",
    "    \n",
    "    # Calculate the 95% VaR for the simulated return series\n",
    "    var_95 = np.percentile(simulated_returns, 0.05)\n",
    "    \n",
    "    # Append VaR results to the arrays\n",
    "    var_95_mean.append(var_95)"
   ]
  },
  {
   "cell_type": "code",
   "execution_count": null,
   "id": "4b982c20",
   "metadata": {
    "scrolled": false
   },
   "outputs": [],
   "source": [
    "monte_ret_2 = monte_ret.copy()\n",
    "monte_ret_2.set_index(\"time\")\n",
    "\n",
    "checker = monte_ret_2.copy()  # Create a copy of monte_ret_2 DataFrame\n",
    "checker = checker[1:]\n",
    "# Assuming var_95_mean is a Series containing the VaR values\n",
    "\n",
    "# Account for spreads\n",
    "checker[\"low_spread\"] = checker.low + checker.spread/100\n",
    "\n",
    "checker['VaR_95'] = var_95_mean  # Add a new column 'VaR_95' to the checker DataFrame\n",
    "\n",
    "# Determine price of VaR\n",
    "checker['VaR_95_price'] = ((1-abs(checker.VaR_95)/200) / (1+abs(checker.VaR_95)/200)) * checker.low_spread\n",
    "\n",
    "checker[\"pct_returns\"] = checker[\"pct_returns\"]\n",
    "\n",
    "checker[\"HIT\"] = (checker[\"low_spread\"] < checker[\"VaR_95_price\"].shift(1)).astype(int)\n",
    "\n",
    "#pd.set_option('display.max_rows', 50)\n",
    "print(pd.DataFrame(checker[[\"low_spread\", \"VaR_95_price\", \"HIT\"]]))"
   ]
  },
  {
   "cell_type": "code",
   "execution_count": null,
   "id": "68567518",
   "metadata": {},
   "outputs": [],
   "source": [
    "import mplfinance as mpf\n",
    "import scipy.stats as stats\n",
    "rate_parameter = checker['HIT'].mean()\n",
    "\n",
    "# Define the number of occurrences for which you want to calculate the probability\n",
    "k = 1  # Define the number of occurrences for which you want to calculate the probability\n",
    "\n",
    "# Calculate the probability of k occurrences using the Poisson distribution\n",
    "probability = stats.poisson.pmf(k, rate_parameter)\n",
    "print(\"Probability of 1 occurrence:\", probability)"
   ]
  },
  {
   "cell_type": "code",
   "execution_count": null,
   "id": "382ecb37",
   "metadata": {
    "scrolled": false
   },
   "outputs": [],
   "source": [
    "monte_ret_2.index = pd.to_datetime(monte_ret_2.time)\n",
    "data = pd.DataFrame({\n",
    "    'Open': monte_ret_2['open'],\n",
    "    'High': monte_ret_2['high'],\n",
    "    'Low': monte_ret_2['low'],\n",
    "    'Close': monte_ret_2['close'],\n",
    "}, index=monte_ret_2.index[1:])  # Exclude the first row to align with VaR and pct_returns\n",
    "\n",
    "# Assuming 'pct_returns' is the column name containing the percentage returns data\n",
    "pct_returns = checker['VaR_95_price']\n",
    "\n",
    "# Plot the candlestick chart with the normalized VaR and percentage returns as additional plots\n",
    "mpf.plot(data, type='candle', style='yahoo', addplot=[\n",
    "    #mpf.make_addplot(var_95_mean, color='red', alpha=0.5),  # VaR as an additional plot\n",
    "    mpf.make_addplot(pct_returns[:], color='green', alpha=0.5)  # Percentage returns as an additional plot\n",
    "], title='Gold Chart with 95% VaR and % Returns',warn_too_much_data=10000)"
   ]
  }
 ],
 "metadata": {
  "kernelspec": {
   "display_name": "Python 3 (ipykernel)",
   "language": "python",
   "name": "python3"
  },
  "language_info": {
   "codemirror_mode": {
    "name": "ipython",
    "version": 3
   },
   "file_extension": ".py",
   "mimetype": "text/x-python",
   "name": "python",
   "nbconvert_exporter": "python",
   "pygments_lexer": "ipython3",
   "version": "3.11.5"
  }
 },
 "nbformat": 4,
 "nbformat_minor": 5
}
